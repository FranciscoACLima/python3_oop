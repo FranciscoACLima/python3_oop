{
 "cells": [
  {
   "cell_type": "markdown",
   "metadata": {},
   "source": [
    "# Python 3 OOP Parte 1 - Objetos e tipos\n",
    "Traduzido de http://blog.thedigitalcatonline.com/blog/2014/08/20/python-3-oop-part-1-objects-and-types/ publicado por  Leonardo Giordani em 20/08/2014\n",
    "\n",
    "\n",
    "## Sobre esta série\n",
    "\n",
    "A programação orientada a objetos (OOP) tem sido o principal paradigma de programação há várias décadas, desde as tentativas iniciais nos anos 60 até chegar em algumas das linguagens mais importantes usadas atualmente. Sendo um conjunto de conceitos de programação e metodologias de design, não dá para dizer que exista uma linguagem que a implementou \"corretamente\" ou \"perfeitamente\", na realidade existe tantas implementações diferentes, como existem linguagens diferentes.\n",
    "\n",
    "Portanto, um dos aspectos mais interessantes das linguagens OOP é o entendimento de como elas implementam esses conceitos. Nesta publicação, vou tentar dar início à analise da implementação OOP da linguagem Python. Devido à riqueza do tópico, considero essa tentativa como um conjunto de ideias para os iniciantes de Python que estão tentando encontrar o caminho para essa linguagem bonita (e às vezes peculiar).\n",
    "\n",
    "Esta série de postagens pretende apresentar o leitor à implementação do Python 3 dos conceitos de programação orientada a objetos. O conteúdo desta e das próximas postagens não serão completamente diferentes da série anterior de \"OOP Concepts in Python 2.x\", no entanto. O ponto é que, embora algumas das estruturas internas mudaram muito, a filosofia global não se alterou, sendo Python 3 uma evolução do Python 2 e não um novo idioma.\n",
    "\n",
    "Então escolhi dividir a série anterior e adaptar seu conteúdo ao Python 3 em vez de publicar uma mera lista de correções. Acho que esta maneira deve ser mais útil para novos leitores, que, de outra forma, seriam forçados a ler a série anterior.\n",
    "\n",
    "### Print\n",
    "Uma das mudanças mais visíveis introduzidas pelo Python 3 é a transformação da palavra-chave `print` na função `print()`. Esta é, de fato, uma mudança muito pequena, em comparação com outras modificações feitas nas estruturas internas, mas é a mais impressionante e será a fonte de 80% de seus erros de sintaxe quando você começar a escrever o código Python 3.\n",
    "\n",
    "Lembre-se de que a saída de tela é agora uma função e escreva `print(a)` e não `print a`. Vale observar que Python 2.7 aceita o uso de `print(a)` então esta parte do código em Python 3, funciona também em Python 2.7.\n",
    "\n",
    "\n",
    "## De volta para o objeto\n",
    "\n",
    "A ciência da computação lida com dados e com procedimentos para manipular esses dados. Tudo, desde os primeiros programas Fortran até as últimas aplicações móveis, é sobre dados e suas manipulações.\n",
    "\n",
    "Então, se os dados são os ingredientes e os procedimentos são as receitas, parece (e pode ser) razoável mantê-las separadas.\n",
    "\n",
    "Vamos fazer alguma programação procedutal em Python"
   ]
  },
  {
   "cell_type": "code",
   "execution_count": 1,
   "metadata": {},
   "outputs": [
    {
     "data": {
      "text/plain": [
       "92.83333333333333"
      ]
     },
     "execution_count": 1,
     "metadata": {},
     "output_type": "execute_result"
    }
   ],
   "source": [
    "# Alguns dados\n",
    "data = (13, 63, 5, 378, 58, 40)\n",
    "\n",
    "# Um procedimento que calcula a média\n",
    "def avg(d):\n",
    "    return sum(d)/len(d)\n",
    "    \n",
    "avg(data)"
   ]
  },
  {
   "cell_type": "markdown",
   "metadata": {},
   "source": [
    "Como você pode ver, o código é simples: o procedimento (função) atua numa seqüência de dados e retorna a média dos itens de lista. Até agora, tudo certo: calcular a média dos números deixando-os intocados e criar novos dados.\n",
    "\n",
    "A observação do mundo cotidiano, no entanto, mostra que dados complexos mudam: um dispositivo elétrico está ligado ou desligado, uma porta está aberta ou fechada, o conteúdo de uma estante de livros em seu quarto muda à medida que você compra novos livros.\n",
    "\n",
    "Você ainda pode gerenciá-lo mantendo os dados e procedimentos separados, por exemplo:\n",
    "\n"
   ]
  },
  {
   "cell_type": "code",
   "execution_count": 2,
   "metadata": {},
   "outputs": [],
   "source": [
    "# Há duas portas numeradas, inicialmente fechadas\n",
    "porta1 = [1, 'fechada']\n",
    "porta2 = [2, 'fechada']\n",
    "\n",
    "# Procedimento para abrir a porta\n",
    "def abre_porta(porta):\n",
    "    porta[1] = 'aberta'"
   ]
  },
  {
   "cell_type": "code",
   "execution_count": 3,
   "metadata": {},
   "outputs": [
    {
     "data": {
      "text/plain": [
       "[1, 'aberta']"
      ]
     },
     "execution_count": 3,
     "metadata": {},
     "output_type": "execute_result"
    }
   ],
   "source": [
    "abre_porta(porta1)\n",
    "porta1"
   ]
  },
  {
   "cell_type": "code",
   "execution_count": 4,
   "metadata": {},
   "outputs": [
    {
     "data": {
      "text/plain": [
       "[2, 'aberta']"
      ]
     },
     "execution_count": 4,
     "metadata": {},
     "output_type": "execute_result"
    }
   ],
   "source": [
    "abre_porta(porta2)\n",
    "porta2"
   ]
  },
  {
   "cell_type": "markdown",
   "metadata": {},
   "source": [
    "Descrevi uma porta como uma estrutura contendo um número e o status da porta (como faria em linguagens como LISP, por exemplo). O procedimento sabe como essa estrutura é feita e pode alterá-la.\n",
    "\n",
    "Isso também funciona corretamente. Surge, contudo, alguns problemas, quando começo a criar tipos especializados de dados. O que acontece, por exemplo, se eu introduzo um tipo de dados \"porta com fechadura\", que só pode ser aberta quando não está trancada? Vamos ver:"
   ]
  },
  {
   "cell_type": "code",
   "execution_count": 5,
   "metadata": {},
   "outputs": [],
   "source": [
    "# Há duas portas numeradas, inicialmente fechadas\n",
    "porta1 = [1, 'fechada']\n",
    "porta2 = [2, 'fechada']\n",
    "\n",
    "# O procedimento para abrir a porta\n",
    "def abre_porta(porta):\n",
    "    porta[1] = 'aberta'\n",
    "\n",
    "# Esta é uma porta com fechadura, inicialmente destrancada\n",
    "fporta1 = [1, 'fechada', 'destrancada']\n",
    "\n",
    "# Procedimento para abrir uma porta padrão\n",
    "def abre_porta(porta):\n",
    "    porta[1] = 'aberta'\n",
    "\n",
    "# Procedimento para abrir uma porta com fechadura\n",
    "def abre_fporta(porta):\n",
    "    if porta[2] == 'destrancada':\n",
    "        porta[1] = 'aberta'"
   ]
  },
  {
   "cell_type": "code",
   "execution_count": 6,
   "metadata": {},
   "outputs": [
    {
     "data": {
      "text/plain": [
       "[1, 'aberta']"
      ]
     },
     "execution_count": 6,
     "metadata": {},
     "output_type": "execute_result"
    }
   ],
   "source": [
    "abre_porta(porta1)\n",
    "porta1"
   ]
  },
  {
   "cell_type": "code",
   "execution_count": 7,
   "metadata": {},
   "outputs": [
    {
     "data": {
      "text/plain": [
       "[1, 'aberta', 'destrancada']"
      ]
     },
     "execution_count": 7,
     "metadata": {},
     "output_type": "execute_result"
    }
   ],
   "source": [
    "abre_fporta(fporta1)\n",
    "fporta1"
   ]
  },
  {
   "cell_type": "markdown",
   "metadata": {},
   "source": [
    "Embora tudo ainda funcione sem surpresas neste código. Como você pode ver, tive que encontrar um nome diferente para o procedimento que abre uma porta com fechadura, uma vez que sua implementação difere do procedimento que abre uma porta padrão. Mas, espere... ainda estou abrindo uma porta, a ação é a mesma, e isso muda o status da própria porta. Então, por que tenho que lembro que uma porta fechada deve ser aberta com, em abre_fporta()vez de abre_porta() se o verbo, a ação, é o mesmo?\n",
    "\n",
    "Há chances de que esta separação entre dados e procedimentos não se encaixem perfeitamente em algumas situações. O problema principal é que a ação \"aberta\" não está realmente usando a porta; antes está mudando seu estado. Assim como ocorre com os botões de controle de volume do seu telefone, que estão no próprio telefone, o procedimento \"aberto\" deve se referir à \"porta\".\n",
    "\n",
    "Isso é exatamente o que leva ao conceito de objeto: um objeto, no contexto OOP, é uma estrutura que contém dados e procedimentos que operam neles.\n",
    "\n",
    "## Nosso querido tipo?\n",
    "\n",
    "Quando se fala sobre dados, precisamos imediatamente apresentar o conceito de tipo. Este conceito pode ter dois significados na ciência da computação que merecem ser mencionados: o **comportamental** e o **estrutural**.\n",
    "\n",
    "O significado comportamental representa o fato de que você sabe o que é descrevendo como ele age. Esta é a base do chamado \"duck typing\", numa tradução literal: \"tipagem de pato\": se algo age como um pato, é um pato (https://osantana.me/duck-typing/).\n",
    "\n",
    "O significado estrutural identifica o tipo da coisa, observando sua estrutura interna. Portanto, duas coisas que atuam da mesma maneira, mas são internamente diferentes, são de tipos diferentes.\n",
    "\n",
    "Ambos os pontos de vista podem ser válidos e diferentes linguagens podem implementar e enfatizar um significado ou outro, e até mesmo ambos.\n",
    "\n",
    "## Jogos de Classes\n",
    "\n",
    "Os objetos em Python podem ser construídos descrevendo sua estrutura através de uma classe . Uma classe é a representação de programação de um objeto genérico, como \"um livro\", \"um carro\", \"uma porta\": quando falo sobre \"uma porta\", todos podem entender o que estou dizendo, sem a necessidade de referir para uma porta específica na sala.\n",
    "\n",
    "Em Python, o tipo de objeto é representado pela classe utilizada para construir o objeto: isto é, em Python o tipo de palavra tem o mesmo significado da classe de palavras .\n",
    "\n",
    "Por exemplo, uma das classes internas de Python é int, que representa um número inteiro\n",
    "\n"
   ]
  },
  {
   "cell_type": "code",
   "execution_count": 8,
   "metadata": {},
   "outputs": [
    {
     "data": {
      "text/plain": [
       "6"
      ]
     },
     "execution_count": 8,
     "metadata": {},
     "output_type": "execute_result"
    }
   ],
   "source": [
    "a = 6\n",
    "a"
   ]
  },
  {
   "cell_type": "code",
   "execution_count": 9,
   "metadata": {},
   "outputs": [
    {
     "name": "stdout",
     "output_type": "stream",
     "text": [
      "<class 'int'>\n"
     ]
    }
   ],
   "source": [
    "print(type(a))"
   ]
  },
  {
   "cell_type": "code",
   "execution_count": 10,
   "metadata": {},
   "outputs": [
    {
     "name": "stdout",
     "output_type": "stream",
     "text": [
      "<class 'int'>\n"
     ]
    }
   ],
   "source": [
    "print(a.__class__)"
   ]
  },
  {
   "cell_type": "markdown",
   "metadata": {},
   "source": [
    "Como você pode ver, a função incorporada `type()` retorna o conteúdo do atributo mágico **__class__** (a magia aqui significa que seu valor é gerenciado internamente pelo próprio Python). O tipo da variável `a`, ou sua classe, é `int`. (Esta é uma descrição muito imprecisa de um tópico bastante complexo, então lembre-se de que, no momento, estamos apenas arranhando a superfície).\n",
    "\n",
    "Depois de ter uma classe, você pode instanciá-la para obter um objeto concreto (uma instância) desse tipo, ou seja, um objeto construído de acordo com a estrutura dessa classe. A sintaxe Python para instanciar uma classe é a mesma de uma chamada de função."
   ]
  },
  {
   "cell_type": "code",
   "execution_count": 11,
   "metadata": {
    "scrolled": true
   },
   "outputs": [
    {
     "name": "stdout",
     "output_type": "stream",
     "text": [
      "<class 'int'>\n"
     ]
    }
   ],
   "source": [
    "b = int()\n",
    "print(type(b))"
   ]
  },
  {
   "cell_type": "markdown",
   "metadata": {},
   "source": [
    "Ao criar uma instância, você pode passar, de acordo com a definição da classe, alguns valores para _inicializá-la_."
   ]
  },
  {
   "cell_type": "code",
   "execution_count": 12,
   "metadata": {},
   "outputs": [
    {
     "data": {
      "text/plain": [
       "0"
      ]
     },
     "execution_count": 12,
     "metadata": {},
     "output_type": "execute_result"
    }
   ],
   "source": [
    "b = int()\n",
    "b"
   ]
  },
  {
   "cell_type": "code",
   "execution_count": 13,
   "metadata": {},
   "outputs": [
    {
     "data": {
      "text/plain": [
       "7"
      ]
     },
     "execution_count": 13,
     "metadata": {},
     "output_type": "execute_result"
    }
   ],
   "source": [
    "c = int(7)\n",
    "c"
   ]
  },
  {
   "cell_type": "markdown",
   "metadata": {},
   "source": [
    "Neste exemplo, a classe `int` cria um número inteiro com o valor `0` quando é chamada sem argumentos, caso contrário, usa o argumento dado para inicializar o objeto recém-criado.\n",
    "\n",
    "Vamos escrever uma classe que represente uma porta, para combinar os exemplos procedurais da primeira seção."
   ]
  },
  {
   "cell_type": "code",
   "execution_count": 14,
   "metadata": {},
   "outputs": [],
   "source": [
    "class Porta:\n",
    "    def __init__(self, numero, status):\n",
    "        self.numero = numero\n",
    "        self.status = status\n",
    "        \n",
    "    def abrir(self):\n",
    "        self.status = 'aberta'\n",
    "        \n",
    "    def fechar(self):\n",
    "        self.status = 'fechada'"
   ]
  },
  {
   "cell_type": "markdown",
   "metadata": {},
   "source": [
    "A palavra chave `class` define uma nova classe chamada **Porta**; todo o código indentado abaixo de `class` faz parte desta classe. As funções que você escreve dentro do objeto são chamadas de **métodos** e não diferem de uma função padrão; a nomenclatura muda apenas para destacar o fato de que essas funções agora fazem parte de um objeto.\n",
    "\n",
    "Os métodos de uma classe devem aceitar como primeiro argumento um valor especial chamado `self`(o nome é uma convenção, mas sempre deve ser usado).\n",
    "\n",
    "A classe pode receber um método especial chamado `__init__()` que é executado quando a classe é instanciada, recebendo os argumentos passados quando esta é chamada; é o que normalmente, no contexto OOP, chama-se de construtor. Vale observar que o método `__init__()` não é a única parte desse mecanismo em Python.\n",
    "\n",
    "As variáveis `self.numero` e `self.status` são chamadas de atributos do objeto. Em Python, os métodos e os atributos são ambos membros do objeto e são acessíveis com a sintaxe ponto (`porta.numero`); a diferença entre atributos e métodos é que este último pode ser chamado (`porta.abrir()`).\n",
    "\n",
    "Como você pode ver, o método `__init__()` deve criar e inicializar os atributos, uma vez que eles não são declarados em nenhum outro lugar. Isso é muito importante em Python e está estritamente ligado à forma como a linguagem lida com os tipos de variáveis. Eu detalharei esses conceitos ao lidar com o polimorfismo em uma postagem posterior.\n",
    "\n",
    "A classe pode ser usada para criar um objeto concreto."
   ]
  },
  {
   "cell_type": "code",
   "execution_count": 15,
   "metadata": {},
   "outputs": [
    {
     "name": "stdout",
     "output_type": "stream",
     "text": [
      "<class '__main__.Porta'>\n"
     ]
    }
   ],
   "source": [
    "porta1 = Porta(1, 'fechada')\n",
    "print(type(porta1))"
   ]
  },
  {
   "cell_type": "code",
   "execution_count": 16,
   "metadata": {},
   "outputs": [
    {
     "data": {
      "text/plain": [
       "1"
      ]
     },
     "execution_count": 16,
     "metadata": {},
     "output_type": "execute_result"
    }
   ],
   "source": [
    "porta1.numero"
   ]
  },
  {
   "cell_type": "code",
   "execution_count": 17,
   "metadata": {},
   "outputs": [
    {
     "data": {
      "text/plain": [
       "'fechada'"
      ]
     },
     "execution_count": 17,
     "metadata": {},
     "output_type": "execute_result"
    }
   ],
   "source": [
    "porta1.status"
   ]
  },
  {
   "cell_type": "markdown",
   "metadata": {},
   "source": [
    "Agora `porta1` uma instância da classe `Porta`; `type()` retorna a classe `__main__.Porta` já que a classe foi definida diretamente no shell interativo, que está no módulo principal atual.\n",
    "\n",
    "Para chamar um método de um objeto, isto é, executar uma das suas funções internas, você apenas acessa como um atributo com a sintaxe ponto e o chama como qualquer função."
   ]
  },
  {
   "cell_type": "code",
   "execution_count": 18,
   "metadata": {},
   "outputs": [
    {
     "data": {
      "text/plain": [
       "1"
      ]
     },
     "execution_count": 18,
     "metadata": {},
     "output_type": "execute_result"
    }
   ],
   "source": [
    "porta1.abrir()\n",
    "porta1.numero"
   ]
  },
  {
   "cell_type": "code",
   "execution_count": 19,
   "metadata": {},
   "outputs": [
    {
     "data": {
      "text/plain": [
       "'aberta'"
      ]
     },
     "execution_count": 19,
     "metadata": {},
     "output_type": "execute_result"
    }
   ],
   "source": [
    "porta1.status"
   ]
  },
  {
   "cell_type": "markdown",
   "metadata": {},
   "source": [
    "Nesse caso, o método `abrir()` da instância `porta1` foi chamado. Nenhum argumento foi passado para ele, mas se você rever a declaração da classe, pode verificar que foi configurado para receber um argumento (`self`). Quando você chama um método de uma instância, o Python passa automaticamente a instância para o método como primeiro argumento.\n",
    "> Mais sobre self explícito em Python: http://wiki.python.org.br/SignificadoDoSelf.\n",
    "\n",
    "Você pode criar quantas instâncias forem necessárias e elas não estarão completamente relacionadas. Ou seja, as alterações que você faz em uma instância não refletem em outra instância da mesma classe.\n",
    "\n",
    "## Recapitulando\n",
    "Os objetos são descritos por uma _classe_, que pode gerar uma ou mais _instâncias_ não relacionadas entre si. Uma classe contém _métodos_, que são funções, e eles aceitam pelo menos um argumento chamado `self`, que é a instância atual na qual o método foi chamado. Um método especial, **__init__()** lida com a inicialização do objeto, definindo o valor inicial dos _atributos_.\n",
    "\n",
    "## Curiosidades dos títulos\n",
    "Os títulos desta seção provêm dos seguintes filmes: De volta para o Futuro(1985), Nosso querido Bob? (1991) , Jogos de Guera (1983) .\n",
    "\n",
    "## Fontes\n",
    "Você encontrará uma grande quantidade de documentação nesta [postagem Reddit](http://www.reddit.com/r/Python/comments/226ahl/some_links_about_python_oop/). A maioria das informações contidas nesta série provêm dessas fontes."
   ]
  },
  {
   "cell_type": "code",
   "execution_count": null,
   "metadata": {},
   "outputs": [],
   "source": []
  }
 ],
 "metadata": {
  "kernelspec": {
   "display_name": "Python 3",
   "language": "python",
   "name": "python3"
  },
  "language_info": {
   "codemirror_mode": {
    "name": "ipython",
    "version": 3
   },
   "file_extension": ".py",
   "mimetype": "text/x-python",
   "name": "python",
   "nbconvert_exporter": "python",
   "pygments_lexer": "ipython3",
   "version": "3.5.2"
  }
 },
 "nbformat": 4,
 "nbformat_minor": 1
}
